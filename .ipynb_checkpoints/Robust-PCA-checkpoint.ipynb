{
 "cells": [
  {
   "cell_type": "code",
   "execution_count": 1,
   "metadata": {},
   "outputs": [],
   "source": [
    "#from scipy import misc\n",
    "import numpy as np\n",
    "#from scipy.io import loadmat, savemat\n",
    "import os\n",
    "import glob\n",
    "import matplotlib.pyplot as plt\n",
    "%matplotlib inline\n",
    "\n",
    "ext = {\"water\":'WaterSurface.zip',\n",
    "       \"fountain\":'Fountain.zip',\n",
    "       \"campus\":'Campus.zip',\n",
    "       \"escalator\": 'Escalator.zip',\n",
    "       \"curtain\": 'Curtain.zip',\n",
    "       \"lobby\": 'Lobby.zip',\n",
    "       \"mall\": 'ShoppingMall.zip',\n",
    "       \"hall\": 'hall.zip',\n",
    "       \"bootstrap\": 'Bootstrap.zip'}\n",
    "\n",
    "example = \"mall\""
   ]
  },
  {
   "cell_type": "code",
   "execution_count": 2,
   "metadata": {},
   "outputs": [
    {
     "ename": "error",
     "evalue": "OpenCV(3.4.2) /tmp/build/80754af9/opencv-suite_1535558553474/work/modules/highgui/src/window.cpp:626: error: (-2:Unspecified error) The function is not implemented. Rebuild the library with Windows, GTK+ 2.x or Carbon support. If you are on Ubuntu or Debian, install libgtk2.0-dev and pkg-config, then re-run cmake or configure script in function 'cvDestroyAllWindows'\n",
     "output_type": "error",
     "traceback": [
      "\u001b[0;31m---------------------------------------------------------------------------\u001b[0m",
      "\u001b[0;31merror\u001b[0m                                     Traceback (most recent call last)",
      "\u001b[0;32m<ipython-input-2-88f3d9ea36b1>\u001b[0m in \u001b[0;36m<module>\u001b[0;34m\u001b[0m\n\u001b[1;32m     15\u001b[0m \u001b[0mcap\u001b[0m\u001b[0;34m.\u001b[0m\u001b[0mrelease\u001b[0m\u001b[0;34m(\u001b[0m\u001b[0;34m)\u001b[0m\u001b[0;34m\u001b[0m\u001b[0;34m\u001b[0m\u001b[0m\n\u001b[1;32m     16\u001b[0m \u001b[0mos\u001b[0m\u001b[0;34m.\u001b[0m\u001b[0mchdir\u001b[0m\u001b[0;34m(\u001b[0m\u001b[0mpwd\u001b[0m\u001b[0;34m)\u001b[0m\u001b[0;34m\u001b[0m\u001b[0;34m\u001b[0m\u001b[0m\n\u001b[0;32m---> 17\u001b[0;31m \u001b[0mcv2\u001b[0m\u001b[0;34m.\u001b[0m\u001b[0mdestroyAllWindows\u001b[0m\u001b[0;34m(\u001b[0m\u001b[0;34m)\u001b[0m\u001b[0;34m\u001b[0m\u001b[0;34m\u001b[0m\u001b[0m\n\u001b[0m",
      "\u001b[0;31merror\u001b[0m: OpenCV(3.4.2) /tmp/build/80754af9/opencv-suite_1535558553474/work/modules/highgui/src/window.cpp:626: error: (-2:Unspecified error) The function is not implemented. Rebuild the library with Windows, GTK+ 2.x or Carbon support. If you are on Ubuntu or Debian, install libgtk2.0-dev and pkg-config, then re-run cmake or configure script in function 'cvDestroyAllWindows'\n"
     ]
    }
   ],
   "source": [
    "import cv2\n",
    " \n",
    "# Opens the Video file\n",
    "cap= cv2.VideoCapture('Curtain.avi')\n",
    "i=0\n",
    "os.mkdir('Images')\n",
    "pwd = os.getcwd()\n",
    "os.chdir(pwd+'/Images')\n",
    "while(i<=99):\n",
    "    ret, frame = cap.read()\n",
    "    if ret == False:\n",
    "        break\n",
    "    cv2.imwrite(str(i)+'.png',frame)\n",
    "    i+=1\n",
    "cap.release()\n",
    "os.chdir(pwd)\n",
    "cv2.destroyAllWindows()"
   ]
  },
  {
   "cell_type": "code",
   "execution_count": 3,
   "metadata": {},
   "outputs": [],
   "source": [
    "\n",
    "def bname(x): return x.split('.')[0]\n",
    "\n",
    "def rgb2gray(rgb):\n",
    "    r, g, b = rgb[:, :, 0], rgb[:, :, 1], rgb[:, :, 2]\n",
    "    gray = 0.2989 * r + 0.5870 * g + 0.1140 * b\n",
    "    return gray / 255.\n",
    "os.chdir(pwd+\"/Images\")\n",
    "names = sorted(glob.glob(\"*.png\"))\n",
    "names = sorted(names,key=lambda x: int(os.path.splitext(x)[0]))"
   ]
  },
  {
   "cell_type": "code",
   "execution_count": 5,
   "metadata": {},
   "outputs": [
    {
     "name": "stdout",
     "output_type": "stream",
     "text": [
      "(20480, 100)\n",
      "128\n",
      "160\n"
     ]
    }
   ],
   "source": [
    "d1, d2, channels = plt.imread(names[0]).shape\n",
    "d1 = 128\n",
    "d2 = 160\n",
    "num = len(names)\n",
    "X = np.zeros((d1, d2, num))\n",
    "for n, i in enumerate(names):\n",
    "    X[:, :, n] = cv2.resize(rgb2gray(cv2.imread(i).astype(np.double)) / 255., (d2, d1))\n",
    "os.chdir(pwd)\n",
    "X = X.reshape(d1 * d2, num)\n",
    "clip = 100\n",
    "print(X.shape)\n",
    "print(d1)\n",
    "print(d2)"
   ]
  },
  {
   "cell_type": "code",
   "execution_count": 6,
   "metadata": {},
   "outputs": [],
   "source": [
    "import numpy as np\n",
    "from numpy.linalg import norm, svd\n",
    "\n",
    "def inexact_augmented_lagrange_multiplier(X, lmbda=.01, tol=1e-3,\n",
    "                                          maxiter=100, verbose=True):\n",
    "    \"\"\"\n",
    "    Inexact Augmented Lagrange Multiplier\n",
    "    \"\"\"\n",
    "    Y = X\n",
    "    norm_two = norm(Y.ravel(), 2)\n",
    "    norm_inf = norm(Y.ravel(), np.inf) / lmbda\n",
    "    dual_norm = np.max([norm_two, norm_inf])\n",
    "    Y = Y / dual_norm\n",
    "    A = np.zeros(Y.shape)\n",
    "    E = np.zeros(Y.shape)\n",
    "    dnorm = norm(X, 'fro')\n",
    "    mu = 1.25 / norm_two\n",
    "    rho = 1.5\n",
    "    sv = 10.\n",
    "    n = Y.shape[0]\n",
    "    itr = 0\n",
    "    while True:\n",
    "        Eraw = X - A + (1 / mu) * Y\n",
    "        Eupdate = np.maximum(Eraw - lmbda / mu, 0) + np.minimum(Eraw + lmbda / mu, 0)\n",
    "        U, S, V = svd(X - Eupdate + (1 / mu) * Y, full_matrices=False)\n",
    "        svp = (S > 1 / mu).shape[0]\n",
    "        if svp < sv:\n",
    "            sv = np.min([svp + 1, n])\n",
    "        else:\n",
    "            sv = np.min([svp + round(.05 * n), n])\n",
    "        Aupdate = np.dot(np.dot(U[:, :svp], np.diag(S[:svp] - 1 / mu)), V[:svp, :])\n",
    "        A = Aupdate\n",
    "        E = Eupdate\n",
    "        Z = X - A - E\n",
    "        Y = Y + mu * Z\n",
    "        mu = np.min([mu * rho, mu * 1e7])\n",
    "        itr += 1\n",
    "        if ((norm(Z, 'fro') / dnorm) < tol) or (itr >= maxiter):\n",
    "            break\n",
    "    if verbose:\n",
    "        print(\"Finished at iteration %d\" % (itr))  \n",
    "    return A, E"
   ]
  },
  {
   "cell_type": "code",
   "execution_count": 7,
   "metadata": {},
   "outputs": [
    {
     "name": "stdout",
     "output_type": "stream",
     "text": [
      "Finished at iteration 18\n"
     ]
    }
   ],
   "source": [
    "sz = clip\n",
    "A, E = inexact_augmented_lagrange_multiplier(X[:, :sz])\n",
    "A = A.reshape(d1, d2, sz) * 255.\n",
    "E = E.reshape(d1, d2, sz) * 255."
   ]
  },
  {
   "cell_type": "code",
   "execution_count": 8,
   "metadata": {},
   "outputs": [
    {
     "name": "stdout",
     "output_type": "stream",
     "text": [
      "RPCA complete\n"
     ]
    }
   ],
   "source": [
    "from scipy.io import loadmat, savemat\n",
    "#Refer to them by position desired for video demo later \n",
    "savemat(\"IALM_background_subtraction.mat\", {\"1\": A, \"2\": E})\n",
    "print(\"RPCA complete\")"
   ]
  },
  {
   "cell_type": "code",
   "execution_count": 9,
   "metadata": {},
   "outputs": [],
   "source": [
    "import numpy as np\n",
    "from numpy.linalg import norm\n",
    "from scipy.linalg import qr\n",
    "\n",
    "def wthresh(a, thresh):\n",
    "    #Soft wavelet threshold\n",
    "    res = np.abs(a) - thresh\n",
    "    return np.sign(a) * ((res > 0) * res)\n",
    "\n",
    "#Default threshold of .03 is assumed to be for input in the range 0-1...\n",
    "#original matlab had 8 out of 255, which is about .03 scaled to 0-1 range\n",
    "def go_dec(X, thresh=.03, rank=2, power=0, tol=1e-3,\n",
    "           max_iter=100, random_seed=0, verbose=True):\n",
    "    m, n = X.shape\n",
    "    if m < n:\n",
    "        X = X.T\n",
    "    m, n = X.shape\n",
    "    L = X\n",
    "    S = np.zeros(L.shape)\n",
    "    itr = 0\n",
    "    random_state = np.random.RandomState(random_seed)    \n",
    "    while True:\n",
    "        Y2 = random_state.randn(n, rank)\n",
    "        for i in range(power + 1):\n",
    "            Y1 = np.dot(L, Y2)\n",
    "            Y2 = np.dot(L.T, Y1);\n",
    "        Q, R = qr(Y2, mode='economic')\n",
    "        L_new = np.dot(np.dot(L, Q), Q.T)\n",
    "        T = L - L_new + S\n",
    "        L = L_new\n",
    "        S = wthresh(T, thresh)\n",
    "        T -= S\n",
    "        err = norm(T.ravel(), 2)\n",
    "        if (err < tol) or (itr >= max_iter):\n",
    "            break \n",
    "        L += T\n",
    "        itr += 1\n",
    "    #Is this even useful in soft GoDec? May be a display issue...\n",
    "    G = X - L - S\n",
    "    if m < n:\n",
    "        L = L.T\n",
    "        S = S.T\n",
    "        G = G.T\n",
    "    if verbose:\n",
    "        print(\"Finished at iteration %d\" % (itr))\n",
    "    return L, S, G"
   ]
  },
  {
   "cell_type": "code",
   "execution_count": 10,
   "metadata": {},
   "outputs": [
    {
     "name": "stdout",
     "output_type": "stream",
     "text": [
      "Finished at iteration 100\n",
      "GoDec complete\n"
     ]
    }
   ],
   "source": [
    "sz = clip\n",
    "L, S, G = go_dec(X[:, :sz])\n",
    "L = L.reshape(d1, d2, sz) * 255.\n",
    "S = S.reshape(d1, d2, sz) * 255.\n",
    "G = G.reshape(d1, d2, sz) * 255.\n",
    "savemat(\"./GoDec_background_subtraction.mat\", {\"1\": L, \"2\": S, \"3\": G, })\n",
    "print(\"GoDec complete\")"
   ]
  },
  {
   "cell_type": "code",
   "execution_count": 11,
   "metadata": {},
   "outputs": [
    {
     "name": "stdout",
     "output_type": "stream",
     "text": [
      "Completed frame 0 of 100 for method IALM\n",
      "Completed frame 25 of 100 for method IALM\n",
      "Completed frame 50 of 100 for method IALM\n",
      "Completed frame 75 of 100 for method IALM\n",
      "Completed frame 0 of 100 for method GoDec\n",
      "Completed frame 25 of 100 for method GoDec\n",
      "Completed frame 50 of 100 for method GoDec\n",
      "Completed frame 75 of 100 for method GoDec\n"
     ]
    }
   ],
   "source": [
    "import os\n",
    "import sys\n",
    "import matplotlib.pyplot as plt\n",
    "from scipy.io import loadmat\n",
    "import numpy as np\n",
    "from matplotlib import cm\n",
    "import matplotlib\n",
    "\n",
    "#demo inspired by / stolen from @kuantkid on Github - nice work!\n",
    "def mlabdefaults():\n",
    "    matplotlib.rcParams['lines.linewidth'] = 1.5\n",
    "    matplotlib.rcParams['savefig.dpi'] = 300 \n",
    "    matplotlib.rcParams['font.size'] = 22\n",
    "    matplotlib.rcParams['font.family'] = \"Times New Roman\"\n",
    "    matplotlib.rcParams['legend.fontsize'] = \"small\"\n",
    "    matplotlib.rcParams['legend.fancybox'] = True\n",
    "    matplotlib.rcParams['lines.markersize'] = 10\n",
    "    matplotlib.rcParams['figure.figsize'] = 8, 5.6\n",
    "    matplotlib.rcParams['legend.labelspacing'] = 0.1\n",
    "    matplotlib.rcParams['legend.borderpad'] = 0.1\n",
    "    matplotlib.rcParams['legend.borderaxespad'] = 0.2\n",
    "    matplotlib.rcParams['font.monospace'] = \"Courier New\"\n",
    "    matplotlib.rcParams['savefig.dpi'] = 200\n",
    "    \n",
    "def make_video(alg, cache_path='/tmp/matrix_dec_tmp'):\n",
    "    name = alg\n",
    "    if not os.path.exists(cache_path):\n",
    "        os.mkdir(cache_path)\n",
    "    #If you generate a big \n",
    "    if not os.path.exists('%s/%s_tmp'%(cache_path, name)):\n",
    "        os.mkdir(\"%s/%s_tmp\"%(cache_path, name))\n",
    "    mat = loadmat('./%s_background_subtraction.mat'%(name))\n",
    "    org = X.reshape(d1, d2, X.shape[1]) * 255.\n",
    "    fig = plt.figure()\n",
    "    ax = fig.add_subplot(111)\n",
    "    usable = [x for x in sorted(mat.keys()) if \"_\" not in x][0]\n",
    "    sz = min(org.shape[2], mat[usable].shape[2])\n",
    "    for i in range(sz):\n",
    "        ax.cla()\n",
    "        ax.axis(\"off\")\n",
    "        ax.imshow(np.hstack([mat[x][:, :, i] for x in sorted(mat.keys()) if \"_\" not in x] + \\\n",
    "                            [org[:, :, i]]), cm.gray)\n",
    "        fname_ = '%s/%s_tmp/_tmp%03d.png'%(cache_path, name, i)\n",
    "        if (i % 25) == 0:\n",
    "            print('Completed frame', i, 'of', sz, 'for method', name)\n",
    "        fig.tight_layout()\n",
    "        fig.savefig(fname_, bbox_inches=\"tight\")\n",
    "        #Write out an mp4 and webm video from the png files. -r 5 means 5 frames a second\n",
    "        #libx264 is h.264 encoding, -s 160x130 is the image size\n",
    "        #You may need to sudo apt-get install libavcodec\n",
    "    plt.close()\n",
    "\n",
    "    num_arrays = na = len([x for x  in mat.keys() if \"_\" not in x])\n",
    "    cdims = (na * d1, d2)\n",
    "    cmd_h264 = \"ffmpeg -y -r 10 -i '%s/%s_tmp/_tmp%%03d.png' -c:v libx264 \" % (cache_path, name) + \\\n",
    "               \"-s %dx%d -preset ultrafast -pix_fmt yuv420p %s_animation.mp4\" % (cdims[0], cdims[1], name)\n",
    "    cmd_vp8 = \"ffmpeg -y -r 10 -i '%s/%s_tmp/_tmp%%03d.png' -c:v libvpx \" % (cache_path, name) + \\\n",
    "              \"-s %dx%d -preset ultrafast -pix_fmt yuv420p %s_animation.webm\" % (cdims[0], cdims[1], name)\n",
    "    os.system(cmd_h264)\n",
    "    os.system(cmd_vp8)\n",
    "        \n",
    "if __name__ == \"__main__\":\n",
    "    mlabdefaults()\n",
    "    all_methods = ['IALM', 'GoDec']\n",
    "    for name in all_methods:\n",
    "        make_video(name);"
   ]
  },
  {
   "cell_type": "code",
   "execution_count": 14,
   "metadata": {},
   "outputs": [],
   "source": [
    "img_array = []\n",
    "cache_path='/tmp/matrix_dec_tmp'\n",
    "os.chdir(cache_path)\n",
    "names = sorted(glob.glob(\"*.png\"))\n",
    "names = sorted(names,key=lambda x: int(os.path.splitext(x)[0]))\n",
    "for filename in names:\n",
    "    img = cv2.imread(filename)\n",
    "    height, width, layers = img.shape\n",
    "    size = (width,height)\n",
    "    img_array.append(img)\n",
    "\n",
    "\n",
    "out = cv2.VideoWriter('project.avi',cv2.VideoWriter_fourcc(*'DIVX'), 15, size)\n",
    " \n",
    "for i in range(len(img_array)):\n",
    "    out.write(img_array[i])\n",
    "out.release()"
   ]
  },
  {
   "cell_type": "code",
   "execution_count": null,
   "metadata": {},
   "outputs": [],
   "source": [
    "img_array = []\n",
    "cache_path='/tmp/matrix_dec_tmp/GoDec_tmp'\n",
    "os.chdir(cache_path)\n",
    "names = sorted(glob.glob(\"*.png\"))\n",
    "names = sorted(names,key=lambda x: int(os.path.splitext(x)[0]))\n",
    "for filename in names:\n",
    "    img = cv2.imread(filename)\n",
    "    height, width, layers = img.shape\n",
    "    size = (width,height)\n",
    "    img_array.append(img)\n",
    "\n",
    "\n",
    "out = cv2.VideoWriter('project.avi',cv2.VideoWriter_fourcc(*'DIVX'), 15, size)\n",
    " \n",
    "for i in range(len(img_array)):\n",
    "    out.write(img_array[i])\n",
    "out.release()"
   ]
  }
 ],
 "metadata": {
  "kernelspec": {
   "display_name": "Python ML",
   "language": "python",
   "name": "ml"
  },
  "language_info": {
   "codemirror_mode": {
    "name": "ipython",
    "version": 3
   },
   "file_extension": ".py",
   "mimetype": "text/x-python",
   "name": "python",
   "nbconvert_exporter": "python",
   "pygments_lexer": "ipython3",
   "version": "3.7.7"
  }
 },
 "nbformat": 4,
 "nbformat_minor": 4
}
